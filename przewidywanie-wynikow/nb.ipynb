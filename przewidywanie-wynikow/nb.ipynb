{
 "cells": [
  {
   "cell_type": "code",
   "execution_count": 19,
   "metadata": {},
   "outputs": [],
   "source": [
    "import pandas as pd\n"
   ]
  },
  {
   "cell_type": "code",
   "execution_count": 20,
   "metadata": {},
   "outputs": [],
   "source": [
    "def get_last_season_xGD(row):\n",
    "    if row[\"Squad\"] in df_previous_year[\"Squad\"].values:\n",
    "        previous_year_xGD = df_previous_year[df_previous_year[\"Squad\"] == row[\"Squad\"]][\"xGD\"].values[0]\n",
    "        return previous_year_xGD * 0.2\n",
    "    else:\n",
    "        return 0"
   ]
  },
  {
   "cell_type": "code",
   "execution_count": 21,
   "metadata": {},
   "outputs": [],
   "source": [
    "def get_last_season_xGD_2(row):\n",
    "    if row[\"Squad\"] in df_previous_year_2[\"Squad\"].values:\n",
    "        previous_year_xGD = df_previous_year_2[df_previous_year_2[\"Squad\"] == row[\"Squad\"]][\"xGD\"].values[0]\n",
    "        return previous_year_xGD * 0.1\n",
    "    else:\n",
    "        return 0"
   ]
  },
  {
   "cell_type": "code",
   "execution_count": 22,
   "metadata": {},
   "outputs": [],
   "source": [
    "def get_prediction(row):\n",
    "    # if row[\"Squad\"] == \"Juventus\":\n",
    "    #     return row['Pts']/4 + row[\"xGD\"]*1 + row[\"Previous_transformed_xGD\"] + row[\"Previous_transformed_xGD_2\"] + 10\n",
    "    # else:\n",
    "    #     return row['Pts']/4 + row[\"xGD\"]*0.8 + row[\"Previous_transformed_xGD\"] + row[\"Previous_transformed_xGD_2\"]\n",
    "\n",
    "    return row['Pts']/4 + row[\"xGD\"]*0.8 + row[\"Previous_transformed_xGD\"] + row[\"Previous_transformed_xGD_2\"]"
   ]
  },
  {
   "cell_type": "code",
   "execution_count": 23,
   "metadata": {},
   "outputs": [
    {
     "name": "stdout",
     "output_type": "stream",
     "text": [
      "    Rk          Squad  Prediction_score\n",
      "0    1         Napoli             32.09\n",
      "1    5          Inter             31.11\n",
      "2    7           Roma             28.26\n",
      "3    3       Juventus             26.00\n",
      "4    2          Milan             24.75\n",
      "5    6       Atalanta             19.87\n",
      "6   10     Fiorentina             13.72\n",
      "7    4          Lazio             10.95\n",
      "8    8        Udinese              7.21\n",
      "9    9         Torino              5.32\n",
      "10  14          Monza              3.12\n",
      "11  15       Sassuolo              0.19\n",
      "12  11        Bologna             -1.77\n",
      "13  20  Hellas Verona             -2.14\n",
      "14  16          Lecce             -2.25\n",
      "15  18      Cremonese             -6.81\n",
      "16  13         Empoli            -12.19\n",
      "17  19      Sampdoria            -12.32\n",
      "18  12    Salernitana            -13.09\n",
      "19  17         Spezia            -13.96\n"
     ]
    }
   ],
   "source": [
    "import pandas as pd\n",
    "\n",
    "df = pd.read_csv(\"serie_a_22_23.csv\")\n",
    "df_previous_year = pd.read_csv(\"serie_a_21_22.csv\")\n",
    "df_previous_year_2 = pd.read_csv(\"serie_a_21_22.csv\")\n",
    "\n",
    "df[\"Previous_transformed_xGD\"] = df.apply(get_last_season_xGD, axis=1)\n",
    "df[\"Previous_transformed_xGD_2\"] = df.apply(get_last_season_xGD_2, axis=1)\n",
    "df[\"Prediction_score\"] = df.apply(get_prediction, axis=1)\n",
    "print(df.sort_values(by=\"Prediction_score\", ascending=False, ignore_index=True)[['Rk', 'Squad','Prediction_score']].to_string())\n"
   ]
  },
  {
   "cell_type": "code",
   "execution_count": null,
   "metadata": {},
   "outputs": [],
   "source": []
  }
 ],
 "metadata": {
  "kernelspec": {
   "display_name": "Python 3",
   "language": "python",
   "name": "python3"
  },
  "language_info": {
   "codemirror_mode": {
    "name": "ipython",
    "version": 3
   },
   "file_extension": ".py",
   "mimetype": "text/x-python",
   "name": "python",
   "nbconvert_exporter": "python",
   "pygments_lexer": "ipython3",
   "version": "3.10.0"
  },
  "orig_nbformat": 4,
  "vscode": {
   "interpreter": {
    "hash": "bbf7816193689fd08f389467839e93ed959165d3ea548f1c457dc9207946b836"
   }
  }
 },
 "nbformat": 4,
 "nbformat_minor": 2
}
