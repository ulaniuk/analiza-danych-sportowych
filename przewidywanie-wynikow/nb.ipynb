{
 "cells": [
  {
   "cell_type": "code",
   "execution_count": 9,
   "metadata": {},
   "outputs": [],
   "source": [
    "import pandas as pd\n"
   ]
  },
  {
   "cell_type": "code",
   "execution_count": 21,
   "metadata": {},
   "outputs": [],
   "source": [
    "def get_last_season_xGD(row):\n",
    "    if row[\"Squad\"] in df_previous_year[\"Squad\"].values:\n",
    "        previous_year_xGD = df_previous_year[df_previous_year[\"Squad\"] == row[\"Squad\"]][\"xGD\"].values[0]\n",
    "        return previous_year_xGD * 0.2\n",
    "    else:\n",
    "        return 0"
   ]
  },
  {
   "cell_type": "code",
   "execution_count": 24,
   "metadata": {},
   "outputs": [],
   "source": [
    "def get_prediction(row):\n",
    "    if row[\"Squad\"] == \"Juventus\":\n",
    "        return 20 - row[\"Rk\"] + row[\"xGD\"]*1 + row[\"Previous_transformed_xGD\"] + 10\n",
    "    else:\n",
    "        return 20 - row[\"Rk\"] + row[\"xGD\"]*0.8 + row[\"Previous_transformed_xGD\"]"
   ]
  },
  {
   "cell_type": "code",
   "execution_count": 25,
   "metadata": {},
   "outputs": [
    {
     "name": "stdout",
     "output_type": "stream",
     "text": [
      "    Rk          Squad  MP   W  D   L  GF  GA  GD  Pts  Pts/MP    xG   xGA   xGD  xGD/90     Last 5  Attendance                             Top Team Scorer              Goalkeeper  Notes  Previous_transformed_xGD  Prediction_score\n",
      "0    1         Napoli  15  13  2   0  37  12  25   41    2.73  29.6  13.4  16.2    1.08  W W W W W       40616                          Victor Osimhen - 9              Alex Meret    NaN                      5.92             37.88\n",
      "1    5          Inter  15  10  0   5  34  22  12   30    2.00  27.6  14.7  12.9    0.86  W W L W W       72080                        Lautaro Martínez - 7        Samir Handanović    NaN                      8.86             34.18\n",
      "2    3       Juventus  15   9  4   2  24   7  17   31    2.07  20.4  16.5   3.9    0.26  W W W W W       37724                          Dušan Vlahović - 6       Wojciech Szczęsny    NaN                      2.90             33.80\n",
      "3    2          Milan  15  10  3   2  29  15  14   33    2.20  25.1  14.9  10.2    0.68  W L W D W       72656                             Rafael Leão - 6      Ciprian Tătărușanu    NaN                      5.56             31.72\n",
      "4    7           Roma  15   8  3   4  18  14   4   27    1.80  26.8  10.6  16.2    1.08  L W L D D       61790                            Paulo Dybala - 5            Rui Patrício    NaN                      5.70             31.66\n",
      "5    6       Atalanta  15   8  3   4  22  15   7   27    1.80  24.2  15.6   8.6    0.58  L W L L L       18642                         Ademola Lookman - 7              Juan Musso    NaN                      4.16             25.04\n",
      "6    4          Lazio  15   9  3   3  26  11  15   30    2.00  18.4  17.3   1.2    0.08  W L W W L       42063                           Ciro Immobile - 6           Ivan Provedel    NaN                      1.66             18.62\n",
      "7   10     Fiorentina  15   5  4   6  18  20  -2   19    1.27  20.9  17.0   3.9    0.26  L W W W L       32874          Giacomo Bonaventura Luka Jović - 3      Pietro Terracciano    NaN                      3.90             17.02\n",
      "8    8        Udinese  15   6  6   3  24  17   7   24    1.60  19.2  18.1   1.1    0.07  L D D D L       21505                                    Beto - 6         Marco Silvestri    NaN                      0.22             13.10\n",
      "9    9         Torino  15   6  3   6  16  17  -1   21    1.40  15.8  19.3  -3.4   -0.23  W W L W D       18747                           Nikola Vlašić - 4  Vanja Milinković-Savić    NaN                      1.86             10.14\n",
      "10  14          Monza  15   5  1   9  16  22  -6   16    1.07  17.0  18.2  -1.1   -0.08  L L W L W       11640                                  Carlos - 3     Michele Di Gregorio    NaN                      0.00              5.12\n",
      "11  11        Bologna  15   5  4   6  20  25  -5   19    1.27  16.9  20.6  -3.8   -0.25  W W W L W       20142                        Marko Arnautović - 8        Łukasz Skorupski    NaN                     -2.32              3.64\n",
      "12  15       Sassuolo  15   4  4   7  15  22  -7   16    1.07  18.2  19.1  -0.9   -0.06  W L L D L       13908                         Davide Frattesi - 4         Andrea Consigli    NaN                     -2.06              2.22\n",
      "13  16          Lecce  15   3  6   6  14  17  -3   15    1.00  11.2  18.8  -7.5   -0.50  L L D W W       24378                       Gabriel Strefezza - 4       Wladimiro Falcone    NaN                      0.00             -2.00\n",
      "14  20  Hellas Verona  15   1  2  12  12  29 -17    5    0.33  16.2  21.9  -5.7   -0.38  L L L L L       18992                  Josh Doig Thomas Henry - 2         Lorenzo Montipò    NaN                      0.78             -3.78\n",
      "15  12    Salernitana  15   4  5   6  19  24  -5   17    1.13  16.3  27.0 -10.8   -0.72  W W D L L       18964                             Boulaye Dia - 6              Luigi Sepe    NaN                     -5.80             -6.44\n",
      "16  18      Cremonese  15   0  7   8  11  26 -15    7    0.47  16.7  27.4 -10.7   -0.72  L D D D L       12621                           David Okereke - 3              Ionuț Radu    NaN                      0.00             -6.56\n",
      "17  13         Empoli  15   4  5   6  12  19  -7   17    1.13  14.5  25.0 -10.5   -0.70  L L W L W        8706  Filippo Bandinelli Tommaso Baldanzi... - 2       Guglielmo Vicario    NaN                     -5.36             -6.76\n",
      "18  19      Sampdoria  15   1  3  11   6  27 -21    6    0.40  11.6  20.9  -9.4   -0.62  W L L L L       21152                           Filip Đuričić - 2             Emil Audero    NaN                     -4.20            -10.72\n",
      "19  17         Spezia  15   3  4   8  14  26 -12   13    0.87  14.0  24.3 -10.3   -0.69  L L L D W        8316                            M'Bala Nzola - 7    Bartłomiej Drągowski    NaN                     -5.98            -11.22\n"
     ]
    }
   ],
   "source": [
    "import pandas as pd\n",
    "\n",
    "df = pd.read_csv(\"serie_a_22_23.csv\")\n",
    "df_previous_year = pd.read_csv(\"serie_a_21_22.csv\")\n",
    "\n",
    "df[\"Previous_transformed_xGD\"] = df.apply(get_last_season_xGD, axis=1)\n",
    "df[\"Prediction_score\"] = df.apply(get_prediction, axis=1)\n",
    "print(df.sort_values(by=\"Prediction_score\", ascending=False, ignore_index=True).to_string())\n"
   ]
  },
  {
   "cell_type": "code",
   "execution_count": null,
   "metadata": {},
   "outputs": [],
   "source": []
  }
 ],
 "metadata": {
  "kernelspec": {
   "display_name": "Python 3.8.13 ('analiza-danych-sportowych')",
   "language": "python",
   "name": "python3"
  },
  "language_info": {
   "codemirror_mode": {
    "name": "ipython",
    "version": 3
   },
   "file_extension": ".py",
   "mimetype": "text/x-python",
   "name": "python",
   "nbconvert_exporter": "python",
   "pygments_lexer": "ipython3",
   "version": "3.8.13"
  },
  "orig_nbformat": 4,
  "vscode": {
   "interpreter": {
    "hash": "e9dd04a2569975d80cafb66141b828dc7883014fbccda5e18b3ff85e2e765257"
   }
  }
 },
 "nbformat": 4,
 "nbformat_minor": 2
}
