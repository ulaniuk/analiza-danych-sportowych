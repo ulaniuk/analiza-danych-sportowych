{
 "cells": [
  {
   "cell_type": "code",
   "execution_count": 28,
   "metadata": {},
   "outputs": [],
   "source": [
    "import pandas as pd\n"
   ]
  },
  {
   "cell_type": "code",
   "execution_count": 29,
   "metadata": {},
   "outputs": [],
   "source": [
    "def get_last_season_xGD(row):\n",
    "    if row[\"Squad\"] in df_previous_year[\"Squad\"].values:\n",
    "        previous_year_xGD = df_previous_year[df_previous_year[\"Squad\"] == row[\"Squad\"]][\"xGD\"].values[0]\n",
    "        return previous_year_xGD * 0.2\n",
    "    else:\n",
    "        return 0"
   ]
  },
  {
   "cell_type": "code",
   "execution_count": 30,
   "metadata": {},
   "outputs": [],
   "source": [
    "def get_last_season_xGD_2(row):\n",
    "    if row[\"Squad\"] in df_previous_year_2[\"Squad\"].values:\n",
    "        previous_year_xGD = df_previous_year_2[df_previous_year_2[\"Squad\"] == row[\"Squad\"]][\"xGD\"].values[0]\n",
    "        return previous_year_xGD * 0.1\n",
    "    else:\n",
    "        return 0"
   ]
  },
  {
   "cell_type": "code",
   "execution_count": 31,
   "metadata": {},
   "outputs": [],
   "source": [
    "def get_prediction(row):\n",
    "    # if row[\"Squad\"] == \"Juventus\":\n",
    "    #     return row['Pts']/4 + row[\"xGD\"]*1 + row[\"Previous_transformed_xGD\"] + row[\"Previous_transformed_xGD_2\"] + 10\n",
    "    # else:\n",
    "    #     return row['Pts']/4 + row[\"xGD\"]*0.8 + row[\"Previous_transformed_xGD\"] + row[\"Previous_transformed_xGD_2\"]\n",
    "\n",
    "    return row['Pts']/4 + row[\"xGD\"]*0.8 + row[\"Previous_transformed_xGD\"] + row[\"Previous_transformed_xGD_2\"]"
   ]
  },
  {
   "attachments": {},
   "cell_type": "markdown",
   "metadata": {},
   "source": [
    "### Dane z 3 ostatnich sezonów Serie A i Premier League"
   ]
  },
  {
   "attachments": {},
   "cell_type": "markdown",
   "metadata": {},
   "source": [
    "### Model predykcyjny jest oparty o aktualną ilość punktów i różnicę bramek wsparty o różnicę bramek w poprzednich latach."
   ]
  },
  {
   "cell_type": "code",
   "execution_count": 32,
   "metadata": {},
   "outputs": [
    {
     "name": "stdout",
     "output_type": "stream",
     "text": [
      "    Rk          Squad  Prediction_score\n",
      "0    1         Napoli             31.65\n",
      "1    5          Inter             30.11\n",
      "2    7           Roma             27.51\n",
      "3    2          Milan             24.34\n",
      "4    6       Atalanta             21.16\n",
      "5    3       Juventus             17.27\n",
      "6    4          Lazio             11.21\n",
      "7   10     Fiorentina             10.11\n",
      "8    8        Udinese              6.41\n",
      "9    9         Torino              3.20\n",
      "10  14          Monza              3.12\n",
      "11  15       Sassuolo              1.52\n",
      "12  11        Bologna             -1.40\n",
      "13  16          Lecce             -2.25\n",
      "14  20  Hellas Verona             -3.08\n",
      "15  18      Cremonese             -6.81\n",
      "16  13         Empoli             -9.51\n",
      "17  12    Salernitana            -10.19\n",
      "18  19      Sampdoria            -11.29\n",
      "19  17         Spezia            -12.82\n"
     ]
    }
   ],
   "source": [
    "import pandas as pd\n",
    "\n",
    "df = pd.read_csv(\"serie_a_22_23.csv\")\n",
    "df_previous_year = pd.read_csv(\"serie_a_21_22.csv\")\n",
    "df_previous_year_2 = pd.read_csv(\"serie_a_20_21.csv\")\n",
    "\n",
    "df[\"Previous_transformed_xGD\"] = df.apply(get_last_season_xGD, axis=1)\n",
    "df[\"Previous_transformed_xGD_2\"] = df.apply(get_last_season_xGD_2, axis=1)\n",
    "df[\"Prediction_score\"] = df.apply(get_prediction, axis=1)\n",
    "print(df.sort_values(by=\"Prediction_score\", ascending=False, ignore_index=True)[['Rk', 'Squad','Prediction_score']].to_string())"
   ]
  },
  {
   "attachments": {},
   "cell_type": "markdown",
   "metadata": {},
   "source": [
    "### Serie A wygra Napoli lub Inter. Na trzeciej pozycji skończy Roma."
   ]
  },
  {
   "cell_type": "code",
   "execution_count": 33,
   "metadata": {},
   "outputs": [
    {
     "name": "stdout",
     "output_type": "stream",
     "text": [
      "    Rk            Squad  Prediction_score\n",
      "0    2  Manchester City             39.02\n",
      "1    1          Arsenal             24.77\n",
      "2    6        Liverpool             23.27\n",
      "3    4        Tottenham             17.97\n",
      "4    7         Brighton             11.93\n",
      "5    8          Chelsea             11.85\n",
      "6    3    Newcastle Utd             10.33\n",
      "7    5   Manchester Utd              9.98\n",
      "8   16         West Ham              6.65\n",
      "9   10        Brentford              4.19\n",
      "10  12      Aston Villa              2.06\n",
      "11  11   Crystal Palace              0.45\n",
      "12  15     Leeds United             -0.95\n",
      "13  13   Leicester City             -1.79\n",
      "14   9           Fulham             -2.54\n",
      "15  18  Nott'ham Forest             -3.79\n",
      "16  19      Southampton             -4.94\n",
      "17  14      Bournemouth             -6.08\n",
      "18  20           Wolves             -7.14\n",
      "19  17          Everton             -7.63\n"
     ]
    }
   ],
   "source": [
    "import pandas as pd\n",
    "\n",
    "df = pd.read_csv(\"premier_22_23.csv\")\n",
    "df_previous_year = pd.read_csv(\"premier_21_22.csv\")\n",
    "df_previous_year_2 = pd.read_csv(\"premier_20_21.csv\")\n",
    "\n",
    "df[\"Previous_transformed_xGD\"] = df.apply(get_last_season_xGD, axis=1)\n",
    "df[\"Previous_transformed_xGD_2\"] = df.apply(get_last_season_xGD_2, axis=1)\n",
    "df[\"Prediction_score\"] = df.apply(get_prediction, axis=1)\n",
    "print(df.sort_values(by=\"Prediction_score\", ascending=False, ignore_index=True)[['Rk', 'Squad','Prediction_score']].to_string())"
   ]
  },
  {
   "attachments": {},
   "cell_type": "markdown",
   "metadata": {},
   "source": [
    "### Zdecydowanie lige wygra Manchester City, Arsenal i Liverpool na 2.3 pozycji. Arsenal ma zaniżoną pozycje ze względu na słabe wyniki w porpzednich latach."
   ]
  },
  {
   "cell_type": "code",
   "execution_count": null,
   "metadata": {},
   "outputs": [],
   "source": []
  }
 ],
 "metadata": {
  "kernelspec": {
   "display_name": "Python 3",
   "language": "python",
   "name": "python3"
  },
  "language_info": {
   "codemirror_mode": {
    "name": "ipython",
    "version": 3
   },
   "file_extension": ".py",
   "mimetype": "text/x-python",
   "name": "python",
   "nbconvert_exporter": "python",
   "pygments_lexer": "ipython3",
   "version": "3.10.0"
  },
  "orig_nbformat": 4,
  "vscode": {
   "interpreter": {
    "hash": "bbf7816193689fd08f389467839e93ed959165d3ea548f1c457dc9207946b836"
   }
  }
 },
 "nbformat": 4,
 "nbformat_minor": 2
}
